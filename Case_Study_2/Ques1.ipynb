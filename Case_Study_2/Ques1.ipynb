{
 "cells": [
  {
   "cell_type": "markdown",
   "metadata": {},
   "source": [
    "Question 1            &emsp; &emsp;&emsp;&emsp;&emsp;&emsp;&emsp;&emsp;&emsp;&emsp;&emsp;&emsp;&emsp;&emsp;            SAJITH RAJAN P\n",
    "&emsp; &emsp;&emsp;&emsp;&emsp;&emsp;&emsp;&emsp;&emsp;&emsp;&emsp;&emsp;&emsp;&emsp;   &emsp; &emsp;&emsp;&emsp;&emsp;&emsp;CB.EN.U4CSE21052"
   ]
  },
  {
   "cell_type": "markdown",
   "metadata": {},
   "source": [
    "Q1 (Hypothesis Testing Case Study)\n",
    "•\tNarrative: Gregor Mendel (1822-1884) was an Austrian monk widely recognized as the founder of the modern field of genetics. Many of his experiments were on varieties of pea plants. He formulated sets of assumptions about each variety; these were his models. He then tested the validity of his models by growing the plants and gathering data. You are required to analyze the data from one such experiment to see if Mendel's model was good. In a particular variety, each plant has either purple flowers or white. The color in each plant is unaffected by the colors in other plants. \n",
    "•\tMendel’s hypothesis: plants should bear purple or white flowers at random, in the ratio 3:1. i.e., For every plant, there is a 75% chance that it will have purple flowers, and a 25% chance that the flowers will be white, regardless of the colors in all the other plants.\n",
    "•\tMendel’s experiment: Mendel recorded the number of purple and white flowering plants. Among the 929 plants that he grew, 705 were purple flowering.\n",
    "•\tHypothesis Test: Carry out a hypothesis test to ascertain Mendel's model. \n",
    "Specific Requirements:\n",
    "1.\tState the Null and Alternative Hypothesis.\n",
    "2.\tWhat statistic do you recommend to apply for this case?\n",
    "3.\tState the observed statistic\n",
    "4.\tSimulate the test statistic under the Null that will help make the decision(5). The number of simulations should be equal to 5000. \n",
    "5.\tDraw a histogram to depict what the model of random selection predicts about the statistic. Depict the observed statistic as a red dot on the histogram.\n",
    "6.\tWhat is the outcome of your analysis? \n"
   ]
  },
  {
   "cell_type": "code",
   "execution_count": 1,
   "metadata": {},
   "outputs": [],
   "source": [
    "import numpy as np\n",
    "import pandas as pd\n",
    "import matplotlib.pyplot as plt\n",
    "%matplotlib inline"
   ]
  },
  {
   "cell_type": "markdown",
   "metadata": {},
   "source": [
    "Null Hypothesis (H0):\n",
    " Mendel's model is correct, and the ratio of purple to white flowers is 3:1, ie there is a 75% chance of purple flowers and a 25% chance of white flowers for each plant.\n",
    "\n",
    "Alternative Hypothesis (H1): \n",
    "Mendel's model is not correct, and the ratio of purple to white flowers !=  3:1."
   ]
  },
  {
   "cell_type": "markdown",
   "metadata": {},
   "source": []
  }
 ],
 "metadata": {
  "kernelspec": {
   "display_name": "Python 3",
   "language": "python",
   "name": "python3"
  },
  "language_info": {
   "codemirror_mode": {
    "name": "ipython",
    "version": 3
   },
   "file_extension": ".py",
   "mimetype": "text/x-python",
   "name": "python",
   "nbconvert_exporter": "python",
   "pygments_lexer": "ipython3",
   "version": "3.11.4"
  }
 },
 "nbformat": 4,
 "nbformat_minor": 2
}
